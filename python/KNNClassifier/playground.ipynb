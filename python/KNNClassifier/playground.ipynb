{
 "cells": [
  {
   "cell_type": "markdown",
   "metadata": {},
   "source": [
    "## Read in Data"
   ]
  },
  {
   "cell_type": "code",
   "execution_count": 2,
   "metadata": {},
   "outputs": [
    {
     "name": "stdout",
     "output_type": "stream",
     "text": [
      "    x1   x2   x3   x4     category\n",
      "0  5.1  3.5  1.4  0.2  Iris-setosa\n",
      "1  4.9  3.0  1.4  0.2  Iris-setosa\n",
      "2  4.7  3.2  1.3  0.2  Iris-setosa\n",
      "3  4.6  3.1  1.5  0.2  Iris-setosa\n",
      "4  5.0  3.6  1.4  0.2  Iris-setosa\n",
      "<class 'pandas.core.frame.DataFrame'>\n",
      "RangeIndex: 150 entries, 0 to 149\n",
      "Data columns (total 5 columns):\n",
      " #   Column    Non-Null Count  Dtype  \n",
      "---  ------    --------------  -----  \n",
      " 0   x1        150 non-null    float64\n",
      " 1   x2        150 non-null    float64\n",
      " 2   x3        150 non-null    float64\n",
      " 3   x4        150 non-null    float64\n",
      " 4   category  150 non-null    object \n",
      "dtypes: float64(4), object(1)\n",
      "memory usage: 6.0+ KB\n",
      "None\n"
     ]
    }
   ],
   "source": [
    "from sklearn.model_selection import train_test_split\n",
    "from sklearn.preprocessing import LabelEncoder\n",
    "import pandas as pd\n",
    "import numpy as np\n",
    "from KNNClassifier import KNNClassifier\n",
    "\n",
    "# read in the data - classic Iris dataset\n",
    "df = pd.read_csv('C:/Users/spenc/Documents/Data Annotation/Project Codex/Data/iris.csv',  header = None)\n",
    "\n",
    "df.columns = ['x1', 'x2', 'x3', 'x4', 'category']\n",
    "print(df.head())\n",
    "print(df.info())"
   ]
  },
  {
   "cell_type": "markdown",
   "metadata": {},
   "source": [
    "## Preprocess Data"
   ]
  },
  {
   "cell_type": "code",
   "execution_count": 9,
   "metadata": {},
   "outputs": [],
   "source": [
    "np.random.seed(33) # for reproducibility\n",
    "\n",
    "# train/test split, stratified by flower category\n",
    "train, test = train_test_split(df, test_size = 0.2, stratify = df['category'])\n",
    "\n",
    "# split datasets by input/output\n",
    "X_train = train.iloc[:, 0:4]\n",
    "y_train = train.iloc[:, -1]\n",
    "\n",
    "X_test = test.iloc[:, 0:4]\n",
    "y_test = test.iloc[:, -1]\n",
    "\n",
    "# label encoding\n",
    "label_encoder = LabelEncoder()\n",
    "\n",
    "y_train_encoded = label_encoder.fit_transform(y_train)\n",
    "\n",
    "y_test_encoded = label_encoder.fit_transform(y_test)\n",
    "\n",
    "# Center and scale data\n",
    "from sklearn.preprocessing import RobustScaler\n",
    "\n",
    "scaler = RobustScaler()\n",
    "scaler.fit(X_train)\n",
    "\n",
    "X_train_scaled = scaler.transform(X_train)\n",
    "X_test_scaled = scaler.transform(X_test)"
   ]
  },
  {
   "cell_type": "markdown",
   "metadata": {},
   "source": [
    "## Model Fitting"
   ]
  },
  {
   "cell_type": "code",
   "execution_count": 10,
   "metadata": {},
   "outputs": [],
   "source": [
    "from sklearn import metrics\n",
    "\n",
    "# initialize the model object with k=5\n",
    "knn_classifier = KNNClassifier(k = 2)\n",
    "\n",
    "# train model \n",
    "knn_classifier.fit(X_train_scaled, y_train_encoded)\n",
    "\n",
    "yhat_train_encoded = knn_classifier.predict(X_train_scaled)\n",
    "yhat_test_encoded = knn_classifier.predict(X_test_scaled)"
   ]
  },
  {
   "cell_type": "code",
   "execution_count": 11,
   "metadata": {},
   "outputs": [
    {
     "data": {
      "text/plain": [
       "array([[39,  1,  0],\n",
       "       [ 0, 38,  2],\n",
       "       [ 0,  3, 37]], dtype=int64)"
      ]
     },
     "execution_count": 11,
     "metadata": {},
     "output_type": "execute_result"
    }
   ],
   "source": [
    "# In sample\n",
    "y_true = y_train_encoded\n",
    "y_pred = yhat_train_encoded\n",
    "\n",
    "metrics.confusion_matrix(y_true, y_pred)"
   ]
  },
  {
   "cell_type": "code",
   "execution_count": 12,
   "metadata": {},
   "outputs": [
    {
     "data": {
      "text/plain": [
       "array([[10,  0,  0],\n",
       "       [ 0,  8,  2],\n",
       "       [ 0,  1,  9]], dtype=int64)"
      ]
     },
     "execution_count": 12,
     "metadata": {},
     "output_type": "execute_result"
    }
   ],
   "source": [
    "# Out of sample\n",
    "y_true = y_test_encoded\n",
    "y_pred = yhat_test_encoded\n",
    "\n",
    "metrics.confusion_matrix(y_true, y_pred)"
   ]
  },
  {
   "cell_type": "markdown",
   "metadata": {},
   "source": [
    "## Model Performance Assessment"
   ]
  },
  {
   "cell_type": "code",
   "execution_count": 13,
   "metadata": {},
   "outputs": [],
   "source": [
    "import seaborn as sb\n",
    "\n",
    "k_values = range(1, 31)\n",
    "in_sample_acc = []\n",
    "out_sample_acc = []\n",
    "for val in k_values:\n",
    "    # initialize the model object with k=val\n",
    "    knn_classifier = KNNClassifier(k = val)\n",
    "    # train model \n",
    "    knn_classifier.fit(X_train_scaled, y_train_encoded)\n",
    "    yhat_train_encoded = knn_classifier.predict(X_train_scaled)\n",
    "    yhat_test_encoded = knn_classifier.predict(X_test_scaled)\n",
    "\n",
    "    # in sample accuracy\n",
    "    y_true = y_train_encoded\n",
    "    y_pred = yhat_train_encoded\n",
    "\n",
    "    conf_mat = metrics.confusion_matrix(y_true, y_pred)\n",
    "    in_sample_acc.append(np.trace(conf_mat) / len(y_train))\n",
    "\n",
    "    # out of sample accuracy\n",
    "    y_true = y_test_encoded\n",
    "    y_pred = yhat_test_encoded\n",
    "\n",
    "    conf_mat = metrics.confusion_matrix(y_true, y_pred)\n",
    "    out_sample_acc.append(np.trace(conf_mat) / len(y_test))"
   ]
  },
  {
   "cell_type": "code",
   "execution_count": 14,
   "metadata": {},
   "outputs": [
    {
     "name": "stderr",
     "output_type": "stream",
     "text": [
      "c:\\Users\\spenc\\anaconda3\\Lib\\site-packages\\seaborn\\_oldcore.py:1119: FutureWarning: use_inf_as_na option is deprecated and will be removed in a future version. Convert inf values to NaN before operating instead.\n",
      "  with pd.option_context('mode.use_inf_as_na', True):\n",
      "c:\\Users\\spenc\\anaconda3\\Lib\\site-packages\\seaborn\\_oldcore.py:1119: FutureWarning: use_inf_as_na option is deprecated and will be removed in a future version. Convert inf values to NaN before operating instead.\n",
      "  with pd.option_context('mode.use_inf_as_na', True):\n"
     ]
    },
    {
     "data": {
      "image/png": "[encoded data removed]",
      "text/plain": [
       "<Figure size 640x480 with 1 Axes>"
      ]
     },
     "metadata": {},
     "output_type": "display_data"
    }
   ],
   "source": [
    "# save evaluation data as a dictionary\n",
    "eval_data = {\n",
    "    \"k\": k_values,\n",
    "    \"acc_in\": in_sample_acc,\n",
    "    \"acc_out\": out_sample_acc,\n",
    "}\n",
    "\n",
    "# convert dictionary to DataFrame\n",
    "eval_df = pd.DataFrame(eval_data)\n",
    "\n",
    "# line charts \n",
    "perf_plot = sb.lineplot(eval_df.iloc[:, 1:3])"
   ]
  },
  {
   "cell_type": "markdown",
   "metadata": {},
   "source": [
    "## Conclusion\n",
    "\n",
    "The `KNNClassifier` appears to be functioning as intended. In the particular case of these Iris data, the parameter `k` should be set to somewhere between 11 and 15."
   ]
  }
 ],
 "metadata": {
  "kernelspec": {
   "display_name": "base",
   "language": "python",
   "name": "python3"
  },
  "language_info": {
   "codemirror_mode": {
    "name": "ipython",
    "version": 3
   },
   "file_extension": ".py",
   "mimetype": "text/x-python",
   "name": "python",
   "nbconvert_exporter": "python",
   "pygments_lexer": "ipython3",
   "version": "3.11.7"
  }
 },
 "nbformat": 4,
 "nbformat_minor": 2
}
